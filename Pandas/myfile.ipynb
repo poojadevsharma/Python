{
 "cells": [
  {
   "cell_type": "markdown",
   "metadata": {},
   "source": [
    "# Introduction To Data Science"
   ]
  },
  {
   "cell_type": "markdown",
   "metadata": {},
   "source": [
    "This is our first session for numpy."
   ]
  },
  {
   "cell_type": "code",
   "execution_count": 8,
   "metadata": {},
   "outputs": [],
   "source": [
    "import numpy as np    "
   ]
  },
  {
   "cell_type": "code",
   "execution_count": 11,
   "metadata": {},
   "outputs": [],
   "source": [
    "l = [20,50,30,60,70,10,100] "
   ]
  },
  {
   "cell_type": "markdown",
   "metadata": {},
   "source": [
    "list  ----------->           array  \n",
    "\n",
    "slow                        fast \n",
    "heterogeneous              homogeneous\n",
    "[1,2,3,'pooja',4.5]        [1.2,2.3]\n",
    "element wise XXX           element wise \n",
    "mathematical XXX           mathematical "
   ]
  },
  {
   "cell_type": "markdown",
   "metadata": {},
   "source": [
    "# Array Conversion"
   ]
  },
  {
   "cell_type": "code",
   "execution_count": 12,
   "metadata": {},
   "outputs": [
    {
     "name": "stdout",
     "output_type": "stream",
     "text": [
      "[ 20  50  30  60  70  10 100]\n"
     ]
    }
   ],
   "source": [
    "arr = np.array(l)  \n",
    "print(arr)"
   ]
  },
  {
   "cell_type": "code",
   "execution_count": 15,
   "metadata": {},
   "outputs": [
    {
     "name": "stdout",
     "output_type": "stream",
     "text": [
      "<class 'numpy.ndarray'>\n"
     ]
    }
   ],
   "source": [
    "print(type(arr))"
   ]
  },
  {
   "cell_type": "code",
   "execution_count": 16,
   "metadata": {},
   "outputs": [
    {
     "name": "stdout",
     "output_type": "stream",
     "text": [
      "[ 20.    50.    30.    60.    70.    10.   100.45]\n"
     ]
    }
   ],
   "source": [
    "l = [20,50,30,60,70,10,100.45]\n",
    "\n",
    "arr = np.array(l)  \n",
    "print(arr)"
   ]
  },
  {
   "cell_type": "code",
   "execution_count": 18,
   "metadata": {},
   "outputs": [
    {
     "name": "stdout",
     "output_type": "stream",
     "text": [
      "[ 20  50  30  60  70  10 100]\n"
     ]
    }
   ],
   "source": [
    "l = [20,50,30,60,70,10,100.45]\n",
    "\n",
    "arr = np.array(l,dtype=int)  \n",
    "print(arr)"
   ]
  },
  {
   "cell_type": "markdown",
   "metadata": {},
   "source": [
    "# Element Wise Operation"
   ]
  },
  {
   "cell_type": "code",
   "execution_count": 24,
   "metadata": {},
   "outputs": [
    {
     "name": "stdout",
     "output_type": "stream",
     "text": [
      "[ 25.    55.    35.    65.    75.    15.   105.45]\n"
     ]
    }
   ],
   "source": [
    "l = [20,50,30,60,70,10,100.45]\n",
    "arr = np.array(l)   \n",
    "print(arr + 5)"
   ]
  },
  {
   "cell_type": "code",
   "execution_count": 28,
   "metadata": {},
   "outputs": [
    {
     "name": "stdout",
     "output_type": "stream",
     "text": [
      "[12.  28.  39.  49.5]\n"
     ]
    }
   ],
   "source": [
    "\n",
    "l = [24,56,78,99]\n",
    "\n",
    "arr  = np.array(l)\n",
    "\n",
    "print(arr / 2)\n"
   ]
  },
  {
   "cell_type": "code",
   "execution_count": 31,
   "metadata": {},
   "outputs": [
    {
     "name": "stdout",
     "output_type": "stream",
     "text": [
      "[200 800  50 270]\n"
     ]
    }
   ],
   "source": [
    "price = [20,40,10,30]\n",
    "quantity = [10,20,5,9]\n",
    "\n",
    "price = np.array(price)\n",
    "quantity = np.array(quantity)\n",
    "\n",
    "print(price * quantity)"
   ]
  },
  {
   "cell_type": "markdown",
   "metadata": {},
   "source": []
  }
 ],
 "metadata": {
  "kernelspec": {
   "display_name": "Python 3",
   "language": "python",
   "name": "python3"
  },
  "language_info": {
   "codemirror_mode": {
    "name": "ipython",
    "version": 3
   },
   "file_extension": ".py",
   "mimetype": "text/x-python",
   "name": "python",
   "nbconvert_exporter": "python",
   "pygments_lexer": "ipython3",
   "version": "3.12.3"
  }
 },
 "nbformat": 4,
 "nbformat_minor": 2
}
